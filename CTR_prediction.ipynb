{
 "cells": [
  {
   "cell_type": "markdown",
   "metadata": {},
   "source": [
    "# F@n comunications Internship\n",
    "#### 1. CTR prediction"
   ]
  },
  {
   "cell_type": "code",
   "execution_count": 3,
   "metadata": {},
   "outputs": [],
   "source": [
    "#1.1 pre-processing\n",
    "#import libraries\n",
    "import pandas_td as td\n",
    "import os"
   ]
  },
  {
   "cell_type": "code",
   "execution_count": 6,
   "metadata": {},
   "outputs": [],
   "source": [
    "#get API from env\n",
    "API_KEY = os.getenv('TD_API_KEY')"
   ]
  },
  {
   "cell_type": "code",
   "execution_count": 7,
   "metadata": {},
   "outputs": [],
   "source": [
    "con = td.connect(apikey=API_KEY, endpoint='https://api.treasuredata.com/')\n",
    "presto = con.query_engine(database='nend_log', type='presto')\n",
    "hive = con.query_engine(database='nend_log', type='hive')"
   ]
  },
  {
   "cell_type": "code",
   "execution_count": 8,
   "metadata": {},
   "outputs": [
    {
     "data": {
      "text/html": [
       "<div style=\"border-style: dashed; border-width: 1px;\">\n",
       "<div style=\"color: #888;\"># issued at 2019-02-18T13:04:11Z</div>URL: <a href=\"https://console.treasuredata.com/jobs/415779562\" target=\"_blank\">https://console.treasuredata.com/jobs/415779562</a><br>\n",
       "<div style=\"color: #888;\"># started at 2019-02-18T13:04:11Z</div><pre style=\"color: #c44;\"></pre>\n",
       "<code><small><small>2019-02-18 13:04:23 -- memory:0B, peak memory:2.15kB, queued time:144.76ms\n",
       "20190218_130411_20958_kpymt                                     11.95s          rows  bytes bytes/sec done   total                                                   \n",
       "[0] output <- aggregation <- exchange <- [1]                    FINISHED          25   775B  51.7KB/s    5 /     5                                                   \n",
       " [1] aggregation <- project <- filter <- nend_log.impression_1m FINISHED 663,144,006 38.2MB   207KB/s   25 /    25 [2019-01-31 15:00:00 UTC, 2019-02-01 14:59:59 UTC]</small></small></code>Result size: 26 bytes<br>\n",
       "Download: 26 / 26 bytes (100.00%)<br>\n",
       "<div style=\"color: #888;\"># downloaded at 2019-02-18T13:04:25Z</div></div>\n"
      ],
      "text/plain": [
       "<IPython.core.display.HTML object>"
      ]
     },
     "metadata": {},
     "output_type": "display_data"
    }
   ],
   "source": [
    "SQL = \"\"\"\n",
    "select\n",
    "    count(1) as imp_cnt\n",
    "from\n",
    "    nend_log.impression_1m\n",
    "where\n",
    "    td_time_range(time,'2019-02-01', '2019-02-02','JST')\n",
    "\"\"\"\n",
    "imp_df = td.read_td(SQL, presto)"
   ]
  },
  {
   "cell_type": "code",
   "execution_count": 9,
   "metadata": {},
   "outputs": [
    {
     "data": {
      "text/html": [
       "<div>\n",
       "<style scoped>\n",
       "    .dataframe tbody tr th:only-of-type {\n",
       "        vertical-align: middle;\n",
       "    }\n",
       "\n",
       "    .dataframe tbody tr th {\n",
       "        vertical-align: top;\n",
       "    }\n",
       "\n",
       "    .dataframe thead th {\n",
       "        text-align: right;\n",
       "    }\n",
       "</style>\n",
       "<table border=\"1\" class=\"dataframe\">\n",
       "  <thead>\n",
       "    <tr style=\"text-align: right;\">\n",
       "      <th></th>\n",
       "      <th>imp_cnt</th>\n",
       "    </tr>\n",
       "  </thead>\n",
       "  <tbody>\n",
       "    <tr>\n",
       "      <th>0</th>\n",
       "      <td>663144006</td>\n",
       "    </tr>\n",
       "  </tbody>\n",
       "</table>\n",
       "</div>"
      ],
      "text/plain": [
       "     imp_cnt\n",
       "0  663144006"
      ]
     },
     "execution_count": 9,
     "metadata": {},
     "output_type": "execute_result"
    }
   ],
   "source": [
    "imp_df"
   ]
  },
  {
   "cell_type": "code",
   "execution_count": 11,
   "metadata": {},
   "outputs": [
    {
     "data": {
      "text/plain": [
       "'Ex1. Try to calculate the total nend videos ad requests of yesterday (2019-01-31)\\n'"
      ]
     },
     "execution_count": 11,
     "metadata": {},
     "output_type": "execute_result"
    }
   ],
   "source": [
    "\"\"\"Ex1. Try to calculate the total nend videos ad requests of yesterday (2019-01-31)\n",
    "\"\"\""
   ]
  },
  {
   "cell_type": "code",
   "execution_count": 13,
   "metadata": {},
   "outputs": [
    {
     "data": {
      "text/html": [
       "<div style=\"border-style: dashed; border-width: 1px;\">\n",
       "<div style=\"color: #888;\"># issued at 2019-02-18T13:17:33Z</div>URL: <a href=\"https://console.treasuredata.com/jobs/415785381\" target=\"_blank\">https://console.treasuredata.com/jobs/415785381</a><br>\n",
       "<div style=\"color: #888;\"># started at 2019-02-18T13:17:33Z</div><pre style=\"color: #c44;\"></pre>\n",
       "<code><small><small>2019-02-18 13:17:42 -- memory:0B, peak memory:2.08kB, queued time:76.17ms\n",
       "20190218_131733_22814_kpymt                                       8.25s           rows  bytes bytes/sec done   total                                                   \n",
       "[0] output <- aggregation <- exchange <- [1]                      FINISHED          25   775B   155KB/s    5 /     5                                                   \n",
       " [1] aggregation <- project <- filter <- nend_log.video_adrequest FINISHED 132,875,907 15.6MB   265KB/s   25 /    25 [2019-01-30 15:00:00 UTC, 2019-01-31 14:59:59 UTC]</small></small></code>Result size: 26 bytes<br>\n",
       "Download: 26 / 26 bytes (100.00%)<br>\n",
       "<div style=\"color: #888;\"># downloaded at 2019-02-18T13:17:44Z</div></div>\n"
      ],
      "text/plain": [
       "<IPython.core.display.HTML object>"
      ]
     },
     "metadata": {},
     "output_type": "display_data"
    }
   ],
   "source": [
    "SQL_ex = \"\"\"\n",
    "select\n",
    "    count(1) as videoad_cnt\n",
    "from\n",
    "    nend_log.video_adrequest\n",
    "where\n",
    "    td_time_range(time,'2019-01-31', '2019-02-01','JST')\n",
    "\"\"\"\n",
    "req_df = td.read_td(SQL_ex, presto)"
   ]
  },
  {
   "cell_type": "code",
   "execution_count": 14,
   "metadata": {},
   "outputs": [
    {
     "data": {
      "text/html": [
       "<div>\n",
       "<style scoped>\n",
       "    .dataframe tbody tr th:only-of-type {\n",
       "        vertical-align: middle;\n",
       "    }\n",
       "\n",
       "    .dataframe tbody tr th {\n",
       "        vertical-align: top;\n",
       "    }\n",
       "\n",
       "    .dataframe thead th {\n",
       "        text-align: right;\n",
       "    }\n",
       "</style>\n",
       "<table border=\"1\" class=\"dataframe\">\n",
       "  <thead>\n",
       "    <tr style=\"text-align: right;\">\n",
       "      <th></th>\n",
       "      <th>videoad_cnt</th>\n",
       "    </tr>\n",
       "  </thead>\n",
       "  <tbody>\n",
       "    <tr>\n",
       "      <th>0</th>\n",
       "      <td>132875907</td>\n",
       "    </tr>\n",
       "  </tbody>\n",
       "</table>\n",
       "</div>"
      ],
      "text/plain": [
       "   videoad_cnt\n",
       "0    132875907"
      ]
     },
     "execution_count": 14,
     "metadata": {},
     "output_type": "execute_result"
    }
   ],
   "source": [
    "req_df"
   ]
  },
  {
   "cell_type": "code",
   "execution_count": 15,
   "metadata": {},
   "outputs": [
    {
     "data": {
      "text/plain": [
       "'Ex.2 Calculate the CTR of yesterday(2019-01-31).'"
      ]
     },
     "execution_count": 15,
     "metadata": {},
     "output_type": "execute_result"
    }
   ],
   "source": [
    "#1.2 import train data\n",
    "\"\"\"Ex.2 Calculate the CTR of yesterday(2019-01-31).\"\"\""
   ]
  },
  {
   "cell_type": "code",
   "execution_count": 18,
   "metadata": {},
   "outputs": [
    {
     "data": {
      "text/html": [
       "<div style=\"border-style: dashed; border-width: 1px;\">\n",
       "<div style=\"color: #888;\"># issued at 2019-02-18T13:33:39Z</div>URL: <a href=\"https://console.treasuredata.com/jobs/415790601\" target=\"_blank\">https://console.treasuredata.com/jobs/415790601</a><br>\n",
       "<div style=\"color: #888;\"># started at 2019-02-18T13:33:41Z</div><pre style=\"color: #c44;\"></pre>\n",
       "<code><small><small>2019-02-18 13:33:42 -- memory:0B, peak memory:24B, queued time:94.19ms\n",
       "20190218_133341_24738_kpymt                                         868.94ms      rows  bytes bytes/sec done   total                                                   \n",
       "[0] output <- aggregation <- exchange <- [1]                        FINISHED        25   775B  16.1KB/s    5 /     5                                                   \n",
       " [1] aggregation <- project <- filter <- nend_log.video_event_start FINISHED 7,556,855  5.3MB   1.3MB/s   25 /    25 [2019-01-30 15:00:00 UTC, 2019-01-31 14:59:59 UTC]</small></small></code>Result size: 26 bytes<br>\n",
       "Download: 26 / 26 bytes (100.00%)<br>\n",
       "<div style=\"color: #888;\"># downloaded at 2019-02-18T13:33:44Z</div></div>\n"
      ],
      "text/plain": [
       "<IPython.core.display.HTML object>"
      ]
     },
     "metadata": {},
     "output_type": "display_data"
    }
   ],
   "source": [
    "SQL_get_VI = \"\"\"\n",
    "select \n",
    "    count(1) as video_imp\n",
    "from \n",
    "    nend_log.video_event_start\n",
    "WHERE\n",
    "    TD_TIME_RANGE(time, '2019-01-31', '2019-02-01','JST')\n",
    "    \"\"\"\n",
    "SQL_get_VC = \"\"\"\n",
    "select\n",
    "    count(1) as clicks\n",
    "from\n",
    "    nend_log.video_click\n",
    "WHERE\n",
    "    TD_TIME_RANGE(time, '2019-01-31', '2019-02-01','JST')\n",
    "\"\"\"\n",
    "\n",
    "video_imp = td.read_td(SQL_get_VI, presto)\n",
    "video_click = td.read_td(SQL_get_VC, presto)\n",
    "\n",
    "CTR = video_click.iloc[0,0]/video_imp.iloc[0,0]"
   ]
  },
  {
   "cell_type": "code",
   "execution_count": 26,
   "metadata": {},
   "outputs": [
    {
     "data": {
      "text/plain": [
       "0.27427904862538716"
      ]
     },
     "execution_count": 26,
     "metadata": {},
     "output_type": "execute_result"
    }
   ],
   "source": [
    "CTR"
   ]
  },
  {
   "cell_type": "code",
   "execution_count": null,
   "metadata": {},
   "outputs": [],
   "source": []
  }
 ],
 "metadata": {
  "kernelspec": {
   "display_name": "Python 3",
   "language": "python",
   "name": "python3"
  },
  "language_info": {
   "codemirror_mode": {
    "name": "ipython",
    "version": 3
   },
   "file_extension": ".py",
   "mimetype": "text/x-python",
   "name": "python",
   "nbconvert_exporter": "python",
   "pygments_lexer": "ipython3",
   "version": "3.6.8"
  }
 },
 "nbformat": 4,
 "nbformat_minor": 2
}
